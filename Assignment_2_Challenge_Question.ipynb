{
  "nbformat": 4,
  "nbformat_minor": 0,
  "metadata": {
    "colab": {
      "provenance": [],
      "authorship_tag": "ABX9TyNRl0/foHdMbmDKAmfbKk4y",
      "include_colab_link": true
    },
    "kernelspec": {
      "name": "python3",
      "display_name": "Python 3"
    },
    "language_info": {
      "name": "python"
    }
  },
  "cells": [
    {
      "cell_type": "markdown",
      "metadata": {
        "id": "view-in-github",
        "colab_type": "text"
      },
      "source": [
        "<a href=\"https://colab.research.google.com/github/arwoooooosh/Assignment-2---Challenge-Question/blob/main/Assignment_2_Challenge_Question.ipynb\" target=\"_parent\"><img src=\"https://colab.research.google.com/assets/colab-badge.svg\" alt=\"Open In Colab\"/></a>"
      ]
    },
    {
      "cell_type": "markdown",
      "source": [
        "\n",
        "\n",
        "---\n",
        "\n",
        "\n",
        "# Write a python program to sort the list of heterogeneous data.\n",
        "e.g.\n",
        "L = [\"Ram\", 1, \"Shyam\", 2, \"Aman\", 3]\n",
        "\n",
        "print(L)\n",
        "\n",
        "L.sort()\n",
        "\n",
        "print(L)\n",
        "\n",
        " Above code gives error. Correct it.\n",
        "\n",
        "---\n",
        "\n"
      ],
      "metadata": {
        "id": "VUEZZbDMpFHx"
      }
    },
    {
      "cell_type": "code",
      "execution_count": 4,
      "metadata": {
        "colab": {
          "base_uri": "https://localhost:8080/"
        },
        "id": "AooN3jh0knK6",
        "outputId": "aa314a37-794b-4ce0-8258-b8e4cebf06e5"
      },
      "outputs": [
        {
          "output_type": "stream",
          "name": "stdout",
          "text": [
            "['Ram', 1, 'Shyam', 2, 'Aman', 3]\n",
            "[1, 2, 3, 'Aman', 'Ram', 'Shyam']\n"
          ]
        }
      ],
      "source": [
        "L = [\"Ram\", 1, \"Shyam\", 2, \"Aman\", 3]\n",
        "print(L)\n",
        "\n",
        "# Custom key function to handle heterogeneous data\n",
        "def key_func(item):\n",
        "    if type(item) == int:\n",
        "        return (0, item)  # Sort strings first\n",
        "    elif type(item) == str:\n",
        "        return (1, item)  # Sort integers next\n",
        "    else:\n",
        "        return (2, item)  # Sort other types last\n",
        "\n",
        "L_sorted = sorted(L, key=key_func)\n",
        "print(L_sorted)\n"
      ]
    }
  ]
}